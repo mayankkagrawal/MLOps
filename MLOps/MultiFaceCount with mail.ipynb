{
 "cells": [
  {
   "cell_type": "code",
   "execution_count": 11,
   "metadata": {},
   "outputs": [],
   "source": [
    "import cv2\n",
    "import numpy as np\n",
    "import smtplib"
   ]
  },
  {
   "cell_type": "code",
   "execution_count": 12,
   "metadata": {},
   "outputs": [],
   "source": [
    "face_model = cv2.CascadeClassifier('haarcascade_frontalface_default.xml')"
   ]
  },
  {
   "cell_type": "code",
   "execution_count": 13,
   "metadata": {},
   "outputs": [],
   "source": [
    "cap=cv2.VideoCapture(0)"
   ]
  },
  {
   "cell_type": "code",
   "execution_count": 14,
   "metadata": {},
   "outputs": [
    {
     "name": "stdout",
     "output_type": "stream",
     "text": [
      "login success\n",
      "email has sent to ma.agrawal123@gmail.com\n"
     ]
    },
    {
     "data": {
      "text/plain": [
       "(221, b'2.0.0 closing connection l30sm12198555pje.34 - gsmtp')"
      ]
     },
     "execution_count": 14,
     "metadata": {},
     "output_type": "execute_result"
    }
   ],
   "source": [
    "while True:\n",
    "    status,photo=cap.read()\n",
    "    faces=face_model.detectMultiScale(photo)\n",
    "    count=len(faces)\n",
    "    cv2.putText(photo,\"face={}\".format(str(count)),(0,100),cv2.FONT_HERSHEY_SIMPLEX,2,(255,255,100),3)\n",
    "    for i in range(0,count,1):\n",
    "        if len(faces)==0:\n",
    "            pass;\n",
    "        else:\n",
    "            x1=faces[i][0]\n",
    "            y1=faces[i][1]\n",
    "            x2=faces[i][2]+x1\n",
    "            y2=faces[i][3]+y1\n",
    "            cv2.rectangle(photo, (x1,y1), (x2,y2), (127,0,255), 2)\n",
    "            cv2.imshow('Face Detection', photo)\n",
    "            cv2.putText(photo,\"face={}\".format(str(count)),(0,100),cv2.FONT_HERSHEY_SIMPLEX,2,(255,255,100),3)\n",
    "\n",
    "    if cv2.waitKey(1)==13:\n",
    "            break;\n",
    "    \n",
    "cv2.destroyAllWindows()\n",
    "cap.release()\n",
    "sender_email='ma.agrawal123@gmail.com'\n",
    "rec_email='ma.agrawal123@gmail.com'\n",
    "password='redh@t123'\n",
    "message= 'hey today attendance is'+str(count)\n",
    "s=smtplib.SMTP('smtp.gmail.com',587)\n",
    "s.starttls()\n",
    "s.login('ma.agrawal123@gmail.com','msrnabebsxbqfdpp')\n",
    "print(\"login success\")\n",
    "s.sendmail('ma.agrawal123@gmail.com','ma.agrawal123@gmail.com',message)\n",
    "print('email has sent to',rec_email)\n",
    "s.quit()"
   ]
  },
  {
   "cell_type": "code",
   "execution_count": null,
   "metadata": {},
   "outputs": [],
   "source": []
  }
 ],
 "metadata": {
  "kernelspec": {
   "display_name": "Python 3",
   "language": "python",
   "name": "python3"
  },
  "language_info": {
   "codemirror_mode": {
    "name": "ipython",
    "version": 3
   },
   "file_extension": ".py",
   "mimetype": "text/x-python",
   "name": "python",
   "nbconvert_exporter": "python",
   "pygments_lexer": "ipython3",
   "version": "3.7.0"
  }
 },
 "nbformat": 4,
 "nbformat_minor": 2
}
