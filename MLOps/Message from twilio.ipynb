{
 "cells": [
  {
   "cell_type": "code",
   "execution_count": null,
   "metadata": {},
   "outputs": [],
   "source": [
    "from twilio.rest import Client \n",
    "  \n",
    "# Your Account Sid and Auth Token from twilio.com / console \n",
    "account_sid = 'ACf3f19a6e296c413ab9500a6edc100c7c'\n",
    "auth_token = 'f59950dc2b2d2abcd14b42d0074831c5'\n",
    "  \n",
    "client = Client(account_sid, auth_token) \n",
    "  \n",
    "''' Change the value of 'from' with the number  \n",
    "received from Twilio and the value of 'to' \n",
    "with the number in which you want to send message.'''\n",
    "message = client.messages.create( \n",
    "                              from_='+18507357258', \n",
    "                              body ='hey from mayank', \n",
    "                              to ='+919358606639'\n",
    "                          ) \n",
    "  \n",
    "print(message.sid) "
   ]
  }
 ],
 "metadata": {
  "kernelspec": {
   "display_name": "Python 3",
   "language": "python",
   "name": "python3"
  },
  "language_info": {
   "codemirror_mode": {
    "name": "ipython",
    "version": 3
   },
   "file_extension": ".py",
   "mimetype": "text/x-python",
   "name": "python",
   "nbconvert_exporter": "python",
   "pygments_lexer": "ipython3",
   "version": "3.7.0"
  }
 },
 "nbformat": 4,
 "nbformat_minor": 2
}
